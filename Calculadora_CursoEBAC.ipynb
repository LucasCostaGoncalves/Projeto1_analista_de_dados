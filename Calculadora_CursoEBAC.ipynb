{
  "nbformat": 4,
  "nbformat_minor": 0,
  "metadata": {
    "colab": {
      "provenance": []
    },
    "kernelspec": {
      "name": "python3",
      "display_name": "Python 3"
    },
    "language_info": {
      "name": "python"
    }
  },
  "cells": [
    {
      "cell_type": "code",
      "source": [
        "# Apresentando o sistema ao usuario\n",
        "\n",
        "print(\"Bem-vindo a Calculadora EBAC!\\n\")\n",
        "\n",
        "numero1 = 0\n",
        "numero2 = 0\n",
        "operacao = 0\n",
        "\n",
        "# Coletando info do usuario\n",
        "\n",
        "numero1 = int(input(\"Digite o primeiro numero: \"))\n",
        "operacao = (input(\"Digite a operação: \"))\n",
        "numero2 = int(input(\"Digite o segundo numero: \"))\n",
        "\n",
        "# Fazendo Operação do usuario\n",
        "\n",
        "if(operacao == '+'):\n",
        "  resultado = numero1 + numero2\n",
        "elif(operacao == '-'):\n",
        "  resultado = numero1 - numero2\n",
        "elif(operacao == '*'):\n",
        "  resultado = numero1 * numero2\n",
        "elif(operacao == '/'):\n",
        "  resultado = numero1 / numero2\n",
        "else:\n",
        "  print(\":( Houve algum ERRO! Por favor reinicie o programa!\")\n",
        "\n",
        "# Mostrando o resultado ao usuario\n",
        "\n",
        "print(numero1,operacao,numero2,'=',resultado)\n",
        "\n"
      ],
      "metadata": {
        "colab": {
          "base_uri": "https://localhost:8080/"
        },
        "id": "FXGSMa6miOjG",
        "outputId": "5da700aa-1037-4f36-d67e-38f9d10388a1"
      },
      "execution_count": 9,
      "outputs": [
        {
          "output_type": "stream",
          "name": "stdout",
          "text": [
            "Bem-vindo a Calculadora EBAC!\n",
            "\n",
            "Digite o primeiro numero: 10\n",
            "Digite a operação: -\n",
            "Digite o segundo numero: 5\n",
            "10 - 5 = 5\n"
          ]
        }
      ]
    }
  ]
}